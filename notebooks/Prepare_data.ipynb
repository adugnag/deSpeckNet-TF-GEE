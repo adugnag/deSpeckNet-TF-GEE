{
  "nbformat": 4,
  "nbformat_minor": 0,
  "metadata": {
    "colab": {
      "name": "prepare_data.ipynb",
      "private_outputs": true,
      "provenance": [],
      "collapsed_sections": [],
      "machine_shape": "hm"
    },
    "kernelspec": {
      "name": "python3",
      "display_name": "Python 3"
    }
  },
  "cells": [
    {
      "cell_type": "markdown",
      "source": [
        "[![Open In Colab](https://colab.research.google.com/assets/colab-badge.svg)](https://colab.research.google.com/github/adugnag/deSpeckNet-TF-GEE/blob/main/notebooks/Prepare_data.ipynb)"
      ],
      "metadata": {
        "id": "m1GkAOJbOVG8"
      }
    },
    {
      "cell_type": "markdown",
      "metadata": {
        "id": "_MJ4kW1pEhwP"
      },
      "source": [
        "# Setup software libraries\n",
        "\n"
      ]
    },
    {
      "cell_type": "code",
      "metadata": {
        "id": "neIa46CpciXq"
      },
      "source": [
        "# Cloud authentication.\n",
        "from google.colab import auth\n",
        "auth.authenticate_user()"
      ],
      "execution_count": null,
      "outputs": []
    },
    {
      "cell_type": "code",
      "metadata": {
        "id": "jat01FEoUMqg"
      },
      "source": [
        "# Import, authenticate and initialize the Earth Engine library.\n",
        "import ee\n",
        "ee.Authenticate()\n",
        "ee.Initialize()"
      ],
      "execution_count": null,
      "outputs": []
    },
    {
      "cell_type": "code",
      "metadata": {
        "id": "8RnZzcYhcpsQ"
      },
      "source": [
        "import tensorflow as tf\n",
        "import numpy as np\n",
        "\n",
        "#tf.enable_eager_execution()\n",
        "print(tf.__version__)\n",
        "\n",
        "# Folium setup.\n",
        "import folium\n",
        "print(folium.__version__)"
      ],
      "execution_count": null,
      "outputs": []
    },
    {
      "cell_type": "code",
      "source": [
        "#@title Helper functions for data prep\n",
        "###########################################\n",
        "# CONVERT LINEAR TO DB\n",
        "###########################################\n",
        "def lin_to_db(image):\n",
        "    \"\"\"\n",
        "    Convert backscatter from linear to dB.\n",
        "    Parameters\n",
        "    ----------\n",
        "    image : ee.Image\n",
        "        Image to convert \n",
        "    Returns\n",
        "    -------\n",
        "    ee.Image\n",
        "        output image\n",
        "    \"\"\"\n",
        "    bandNames = image.bandNames().remove('angle')\n",
        "    db = ee.Image.constant(10).multiply(image.select(bandNames).log10()).rename(bandNames)\n",
        "    return image.addBands(db, None, True)\n",
        "\n",
        "###########################################\n",
        "# PREPARE\n",
        "###########################################\n",
        "\n",
        "def s1_prep(params):\n",
        "    \"\"\"\n",
        "    Prepares a collection of S1 images using a dictionary of parameters. \n",
        "\n",
        "    \"\"\"\n",
        "    \n",
        "    POLARIZATION = params['POLARIZATION']\n",
        "    FORMAT = params['FORMAT']\n",
        "    START_DATE = params['START_DATE']\n",
        "    STOP_DATE = params['STOP_DATE']\n",
        "    ORBIT = params['ORBIT']\n",
        "    RELATIVE_ORBIT_NUMBER = params['RELATIVE_ORBIT_NUMBER']\n",
        "    ROI = params['ROI']\n",
        "    CLIP_TO_ROI = params['CLIP_TO_ROI']\n",
        "    \n",
        "    if POLARIZATION is None: POLARIZATION = 'VVVH'\n",
        "    if FORMAT is None: FORMAT = 'DB' \n",
        "    if ORBIT is None: ORBIT = 'DESCENDING' \n",
        "    \n",
        "    \n",
        "    pol_required = ['VV', 'VH', 'VVVH']\n",
        "    if (POLARIZATION not in pol_required):\n",
        "        raise ValueError(\"ERROR!!! Parameter POLARIZATION not correctly defined\")\n",
        "\n",
        "    \n",
        "    orbit_required = ['ASCENDING', 'DESCENDING', 'BOTH']\n",
        "    if (ORBIT not in orbit_required):\n",
        "        raise ValueError(\"ERROR!!! Parameter ORBIT not correctly defined\")\n",
        "\n",
        "\n",
        "    format_required = ['LINEAR', 'DB']\n",
        "    if (FORMAT not in format_required):\n",
        "        raise ValueError(\"ERROR!!! FORMAT not correctly defined\")\n",
        "        \n",
        "    \n",
        "    s1 = ee.ImageCollection('COPERNICUS/S1_GRD_FLOAT') \\\n",
        "                .filter(ee.Filter.eq('instrumentMode', 'IW')) \\\n",
        "                .filter(ee.Filter.listContains('transmitterReceiverPolarisation', 'VH'))\\\n",
        "                .filter(ee.Filter.eq('resolution_meters', 10)) \\\n",
        "                .filter(ee.Filter.eq('platform_number', 'A')) \\\n",
        "                .filterDate(START_DATE, STOP_DATE) \\\n",
        "                .filterBounds(ROI)\n",
        "    \n",
        "\n",
        "        # select orbit\n",
        "    if (ORBIT != 'BOTH'):\n",
        "      s1 = s1.filter(ee.Filter.eq('orbitProperties_pass', ORBIT))\n",
        "\n",
        "    if (RELATIVE_ORBIT_NUMBER != 'ANY'): \n",
        "      s1 =  s1.filter(ee.Filter.eq('relativeOrbitNumber_start', RELATIVE_ORBIT_NUMBER)) \n",
        "      \n",
        "    \n",
        "    if (POLARIZATION == 'VV'):\n",
        "      s1 = s1.select(['VV','angle'])\n",
        "    elif (POLARIZATION == 'VH'):\n",
        "      s1 = s1.select(['VH','angle'])\n",
        "    elif (POLARIZATION == 'VVVH'):\n",
        "      s1 = s1.select(['VV','VH','angle'])  \n",
        "    \n",
        "    # clip image to roi\n",
        "    if (CLIP_TO_ROI):\n",
        "        s1 = s1.map(lambda image: image.clip(ROI))\n",
        "    \n",
        "    if (FORMAT == 'DB'):\n",
        "        s1 = s1.map(lin_to_db)\n",
        "        \n",
        "        \n",
        "    return s1\n",
        "\n",
        "###########################################\n",
        "# EXPORT TRAINING DATA\n",
        "###########################################\n",
        "\n",
        "def exportDataset(params):\n",
        "  trainingPolysList = train_poly.toList(train_poly.size())\n",
        "  evalPolysList = val_poly.toList(val_poly.size())\n",
        "\n",
        "  # These numbers determined experimentally.\n",
        "  n = 250 # Number of shards in each polygon.\n",
        "  N = 2500 # Total sample size in each polygon.\n",
        "\n",
        "  # Export all the training data (in many pieces), with one task per geometry.\n",
        "  for g in range(train_poly.size().getInfo()):\n",
        "    geomSample = ee.FeatureCollection([])\n",
        "    for i in range(n):\n",
        "      sample = arrays.sample(\n",
        "        region = ee.Feature(trainingPolysList.get(g)).geometry(), \n",
        "        scale = 10, \n",
        "        numPixels = N / n, # Size of the shard.\n",
        "        seed = i,\n",
        "        tileScale = 16\n",
        "    )\n",
        "    geomSample = geomSample.merge(sample)\n",
        "  \n",
        "    desc = params['TRAINING_BASE'] + '_g' + str(g)\n",
        "    if params['EXPORT'] == 'GCS':\n",
        "        task = ee.batch.Export.table.toCloudStorage(\n",
        "            collection = geomSample,\n",
        "            description = desc, \n",
        "            bucket = params['BUCKET'], \n",
        "            fileNamePrefix = params['FOLDER'] + '/' + desc,\n",
        "            fileFormat = 'TFRecord',\n",
        "            selectors = FEATURES\n",
        "            )\n",
        "    else:\n",
        "        task = ee.batch.Export.table.toDrive(\n",
        "            collection = geomSample,\n",
        "            description = desc,  \n",
        "            fileNamePrefix = params['FOLDER'] + '/' + desc,\n",
        "            fileFormat = 'TFRecord',\n",
        "            selectors = FEATURES\n",
        "            )\n",
        "    task.start()\n",
        "\n",
        "  # Export all the evaluation data.\n",
        "  for g in range(val_poly.size().getInfo()):\n",
        "    geomSample = ee.FeatureCollection([])\n",
        "    for i in range(n):\n",
        "      sample = arrays.sample(\n",
        "        region = ee.Feature(evalPolysList.get(g)).geometry(), \n",
        "        scale = 10, \n",
        "        numPixels = N / n,\n",
        "        seed = i,\n",
        "        tileScale = 16\n",
        "      )\n",
        "      geomSample = geomSample.merge(sample)\n",
        "  \n",
        "    desc = params['EVAL_BASE'] + '_g' + str(g)\n",
        "    if params['EXPORT'] == 'GCS':\n",
        "        task = ee.batch.Export.table.toCloudStorage(\n",
        "            collection = geomSample,\n",
        "            description = desc, \n",
        "            bucket = params['BUCKET'], \n",
        "            fileNamePrefix = params['FOLDER'] + '/' + desc,\n",
        "            fileFormat = 'TFRecord',\n",
        "            selectors = FEATURES\n",
        "            )\n",
        "    else:\n",
        "        task = ee.batch.Export.table.toDrive(\n",
        "            collection = geomSample,\n",
        "            description = desc, \n",
        "            fileNamePrefix = params['FOLDER'] + '/' + desc,\n",
        "            fileFormat = 'TFRecord',\n",
        "            selectors = FEATURES\n",
        "            )\n",
        "    task.start()\n"
      ],
      "metadata": {
        "id": "xHmg6Tu_NzeK"
      },
      "execution_count": null,
      "outputs": []
    },
    {
      "cell_type": "markdown",
      "metadata": {
        "id": "iT8ycmzClYwf"
      },
      "source": [
        "# Parameters\n",
        "\n"
      ]
    },
    {
      "cell_type": "code",
      "source": [
        "\n",
        "\n",
        "#ROI\n",
        "geometry = ee.Geometry.Polygon(\n",
        "        [[[103.08000490033993, -2.8225068747308946],\n",
        "          [103.08000490033993, -2.9521181019620673],\n",
        "         [103.29217836225399, -2.9521181019620673],\n",
        "         [103.29217836225399, -2.8225068747308946]]])\n",
        "\n",
        "#parameters\n",
        "params = {  'START_DATE': '2021-01-01', \n",
        "            'STOP_DATE': '2021-12-31',        \n",
        "            'ORBIT': 'DESCENDING',\n",
        "            'RELATIVE_ORBIT_NUMBER':18, \n",
        "            'POLARIZATION': 'VVVH',\n",
        "            'ROI':    geometry,\n",
        "            'FORMAT': 'DB',\n",
        "            'CLIP_TO_ROI': False,\n",
        "          # GCS bucket\n",
        "            'EXPORT': 'GCS',\n",
        "            'BUCKET' : 'senalerts_dl3',\n",
        "            'DRIVE' : '/content/drive',\n",
        "            'FOLDER' : 'deSpeckNet',\n",
        "            'TRAINING_BASE' : 'training_deSpeckNet_DUAL_Median_mask',\n",
        "            'EVAL_BASE' : 'eval_deSpeckNet_DUAL_median_mask',\n",
        "            'MODE' : 'training',\n",
        "            'KERNEL_SIZE' : 40,\n",
        "            'KERNEL_SHAPE' : [40, 40],\n",
        "            }\n",
        "\n",
        "#process Sentinel 1 image collection\n",
        "s1_processed = s1_prep(params)\n",
        "bandNames = s1_processed.first().bandNames().remove('angle')\n",
        "print(bandNames.getInfo())\n",
        "s1_processed = s1_processed.select(bandNames)\n",
        "print('Number of images in the collection: ', s1_processed.size().getInfo())\n",
        "\n",
        "#n = s1_processed.size().getInfo();\n",
        "#colList = s1_processed.toList(n);\n",
        "\n",
        "image = s1_processed.first()\n",
        "label =s1_processed.reduce(ee.Reducer.median())\n",
        "stddev = s1_processed.reduce(ee.Reducer.stdDev())\n",
        "#Mask out pixels with high stdDev. Threshold is higher as the data is in dB.\n",
        "#maskBand = ['VV_mask', 'VH_mask']\n",
        "maskBand = bandNames.map(lambda bandName: ee.String(bandName).cat('_mask'))\n",
        "mask = stddev.lte(2.0).rename(maskBand)\n"
      ],
      "metadata": {
        "id": "MJ-Ejl3bN7MP"
      },
      "execution_count": null,
      "outputs": []
    },
    {
      "cell_type": "code",
      "source": [
        "print(mask.bandNames().getInfo())"
      ],
      "metadata": {
        "id": "HVHfDn0qymud"
      },
      "execution_count": null,
      "outputs": []
    },
    {
      "cell_type": "markdown",
      "source": [
        "#Features"
      ],
      "metadata": {
        "id": "bbilx-ZCeQrK"
      }
    },
    {
      "cell_type": "code",
      "metadata": {
        "id": "psz7wJKalaoj"
      },
      "source": [
        "\n",
        "# Specify inputs (Sentinel-1 bands) to the model and the response variable.\n",
        "BANDS = bandNames.getInfo()\n",
        "#number of selected images\n",
        "print('List of band names in input: ', BANDS)\n",
        "\n",
        "RESPONSE_TR = label.bandNames().getInfo()\n",
        "RESPONSE_TU = bandNames\n",
        "\n",
        "MASK = mask.bandNames().getInfo()\n",
        "\n",
        "if params['MODE'] == 'training':\n",
        "  FEATURES = BANDS + RESPONSE_TR + MASK\n",
        "else:\n",
        "  FEATURES = BANDS + RESPONSE_TU\n",
        "\n",
        "print('List of feature names in input: ', FEATURES)\n",
        "\n"
      ],
      "execution_count": null,
      "outputs": []
    },
    {
      "cell_type": "markdown",
      "source": [
        "#Sampling regions"
      ],
      "metadata": {
        "id": "5gFcupMDeU3y"
      }
    },
    {
      "cell_type": "code",
      "source": [
        "#Sampling polygons. If using new areas please adjust these polygons\n",
        "\n",
        "train1 = ee.Geometry.Polygon(\n",
        "        [[[103.23827668989107, -2.82473762348129],\n",
        "          [103.23827668989107, -2.8730863008895193],\n",
        "          [103.28908845746919, -2.8730863008895193],\n",
        "          [103.28908845746919, -2.82473762348129]]])\n",
        "          \n",
        "train2 = ee.Geometry.Polygon(\n",
        "        [[[103.08275148237153, -2.826109245073874],\n",
        "          [103.08275148237153, -2.891945160858568],\n",
        "          [103.1740753349106, -2.891945160858568],\n",
        "          [103.1740753349106, -2.826109245073874]]])\n",
        "          \n",
        "train3 = ee.Geometry.Polygon(\n",
        "        [[[103.12017366254732, -2.887830527175443],\n",
        "          [103.12017366254732, -2.94954845545005],\n",
        "          [103.245829790477, -2.94954845545005],\n",
        "          [103.245829790477, -2.887830527175443]]])\n",
        "\n",
        "train4 = geometry = ee.Geometry.Polygon(\n",
        "        [[[103.15527841413423, -2.8621137297832173],\n",
        "          [103.15527841413423, -2.9077177848426454],\n",
        "          [103.21124002302095, -2.9077177848426454],\n",
        "          [103.21124002302095, -2.8621137297832173]]])\n",
        "\n",
        "train5 = ee.Geometry.Polygon(\n",
        "        [[[103.10892984235689, -2.8934881446424914],\n",
        "          [103.10892984235689, -2.9373765773812446],\n",
        "          [103.1755344566147, -2.9373765773812446],\n",
        "          [103.1755344566147, -2.8934881446424914]]])\n",
        "\n",
        "train6 =  ee.Geometry.Polygon(\n",
        "        [[[103.17373201215669, -2.8252519817684183],\n",
        "          [103.17373201215669, -2.9037746494754204],\n",
        "          [103.26368257368013, -2.9037746494754204],\n",
        "          [103.26368257368013, -2.8252519817684183]]])\n",
        "train7 =  ee.Geometry.Polygon(\n",
        "        [[[103.081034868602, -2.904460413137298],\n",
        "          [103.081034868602, -2.9500627572273728],\n",
        "          [103.13424989545747, -2.9500627572273728],\n",
        "          [103.13424989545747, -2.904460413137298]]])\n",
        "          \n",
        "val1 = ee.Geometry.Polygon(\n",
        "        [[[103.24273988569185, -2.8478835202194768],\n",
        "          [103.24273988569185, -2.9483484170446874],\n",
        "          [103.29046174848482, -2.9483484170446874],\n",
        "          [103.29046174848482, -2.8478835202194768]]])\n",
        "          \n",
        "val2 = ee.Geometry.Polygon(\n",
        "        [[[103.08240815961763, -2.8566274048086933],\n",
        "          [103.08240815961763, -2.8988028504820584],\n",
        "          [103.1301300224106, -2.8988028504820584],\n",
        "          [103.1301300224106, -2.8566274048086933]]])\n",
        "\n",
        "val3 =     ee.Geometry.Polygon(\n",
        "        [[[103.15527841413423, -2.8609135984375555],\n",
        "          [103.15527841413423, -2.8972598739369757],\n",
        "          [103.21295663679048, -2.8972598739369757],\n",
        "          [103.21295663679048, -2.8609135984375555]]])\n",
        "\n",
        "train_poly = ee.FeatureCollection([ee.Feature(train1),\n",
        "                                   ee.Feature(train2),\n",
        "                                   ee.Feature(train3),\n",
        "                                   ee.Feature(train4),\n",
        "                                   ee.Feature(train5),\n",
        "                                   ee.Feature(train6),\n",
        "                                   ee.Feature(train7)])\n",
        "\n",
        "val_poly =  ee.FeatureCollection([ee.Feature(val1),\n",
        "                                   ee.Feature(val2),\n",
        "                                  ee.Feature(val3)])\n",
        "\n",
        "polyImage = ee.Image(0).byte().paint(train_poly, 1).paint(val_poly, 2)\n",
        "polyImage = polyImage.updateMask(polyImage)\n"
      ],
      "metadata": {
        "id": "tZjEhh4gKAet"
      },
      "execution_count": null,
      "outputs": []
    },
    {
      "cell_type": "markdown",
      "source": [
        "#Visualize"
      ],
      "metadata": {
        "id": "v9HMu67seZg7"
      }
    },
    {
      "cell_type": "code",
      "metadata": {
        "id": "w1fmcU0Pxyf5"
      },
      "source": [
        "# Use folium to visualize the imagery.#\n",
        "mask_mapid = mask.getMapId({'bands':MASK[0], 'min': 0, 'max':1})\n",
        "s1_mapid = image.getMapId({'bands': BANDS[0], 'min': -20, 'max':0})\n",
        "label_mapid = label.getMapId({'bands': RESPONSE_TR[0],'min': -20, 'max': 0})\n",
        "poly_mapid = polyImage.getMapId({'min': 1, 'max': 2, 'palette': ['red', 'blue']})\n",
        "map = folium.Map(location=[-2.6145179357243027, 103.46795961225435], zoom_start=14)\n",
        "\n",
        "folium.TileLayer(\n",
        "    tiles=mask_mapid['tile_fetcher'].url_format,\n",
        "    attr='Map Data &copy; <a href=\"https://earthengine.google.com/\">Google Earth Engine</a>',\n",
        "    overlay=True,\n",
        "    name='Mask',\n",
        "  ).add_to(map)\n",
        "folium.TileLayer(\n",
        "    tiles=label_mapid['tile_fetcher'].url_format,\n",
        "    attr='Map Data &copy; <a href=\"https://earthengine.google.com/\">Google Earth Engine</a>',\n",
        "    overlay=True,\n",
        "    name='Label',\n",
        "  ).add_to(map)\n",
        "folium.TileLayer(\n",
        "    tiles=s1_mapid['tile_fetcher'].url_format,\n",
        "    attr='Map Data &copy; <a href=\"https://earthengine.google.com/\">Google Earth Engine</a>',\n",
        "    overlay=True,\n",
        "    name='Image',\n",
        "  ).add_to(map)\n",
        "folium.TileLayer(\n",
        "    tiles=poly_mapid['tile_fetcher'].url_format,\n",
        "    attr='Map Data &copy; <a href=\"https://earthengine.google.com/\">Google Earth Engine</a>',\n",
        "    overlay=True,\n",
        "    name='Train and eval polygons',\n",
        "  ).add_to(map)\n",
        "map.add_child(folium.LayerControl())\n",
        "map"
      ],
      "execution_count": null,
      "outputs": []
    },
    {
      "cell_type": "markdown",
      "source": [
        "#Export"
      ],
      "metadata": {
        "id": "422ICrclexnO"
      }
    },
    {
      "cell_type": "code",
      "metadata": {
        "id": "eGHYsdAOipa4"
      },
      "source": [
        "#create a feature stack\n",
        "if params['MODE'] == 'training':\n",
        "  featureStack = ee.Image.cat([\n",
        "                image.select(BANDS),\n",
        "                label.select(RESPONSE_TR),\n",
        "                mask.select(MASK)\n",
        "                ])\n",
        "else:\n",
        "  featureStack = ee.Image.cat([\n",
        "                image.select(BANDS),\n",
        "                label.select(RESPONSE_TU)\n",
        "                ])\n",
        "\n",
        "list = ee.List.repeat(1, params['KERNEL_SIZE'])\n",
        "lists = ee.List.repeat(list, params['KERNEL_SIZE'])\n",
        "kernel = ee.Kernel.fixed(params['KERNEL_SIZE'], params['KERNEL_SIZE'], lists)\n",
        "\n",
        "arrays = featureStack.neighborhoodToArray(kernel)\n",
        "\n",
        "#export dataset\n",
        "exportDataset(params)"
      ],
      "execution_count": null,
      "outputs": []
    }
  ]
}
